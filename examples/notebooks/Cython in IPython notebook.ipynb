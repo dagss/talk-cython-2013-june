{
 "metadata": {
  "name": "Cython in IPython notebook"
 },
 "nbformat": 3,
 "worksheets": [
  {
   "cells": [
    {
     "cell_type": "code",
     "input": [
      "%load_ext cythonmagic"
     ],
     "language": "python",
     "outputs": [],
     "prompt_number": 5
    },
    {
     "cell_type": "code",
     "input": [
      "%%cython\n",
      "\n",
      "def say(int n):\n",
      "    cdef int n_twice\n",
      "    n_twice = 2 * n\n",
      "    print \"Hello, two times %d is %d\" % (n, n_twice)\n"
     ],
     "language": "python",
     "outputs": [],
     "prompt_number": 8
    },
    {
     "cell_type": "code",
     "input": [
      "say(4)"
     ],
     "language": "python",
     "outputs": [
      {
       "output_type": "stream",
       "stream": "stdout",
       "text": [
        "Hello, two times 4 is 8\n"
       ]
      }
     ],
     "prompt_number": 9
    },
    {
     "cell_type": "code",
     "input": [],
     "language": "python",
     "outputs": []
    }
   ]
  }
 ]
}