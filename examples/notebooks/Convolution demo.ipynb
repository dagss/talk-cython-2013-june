{
 "metadata": {
  "name": "Convolution demo"
 },
 "nbformat": 3,
 "worksheets": [
  {
   "cells": [
    {
     "cell_type": "code",
     "input": [
      "%load_ext cythonmagic\n",
      "\n",
      "import skimage.io\n",
      "from matplotlib import pyplot as plt\n",
      "import numpy as np\n",
      "import warnings\n",
      "import time\n",
      "\n",
      "skimage.io.use_plugin('pil')\n",
      "\n",
      "def plot_images(images):\n",
      "    if not isinstance(images, list):\n",
      "        images = [images]\n",
      "    fig, axs = plt.subplots(1, len(images))\n",
      "    if len(images) == 1:\n",
      "        axs = [axs] # ...\n",
      "    for img, ax in zip(images, axs):\n",
      "        i = ax.imshow(img, interpolation='nearest', cmap=plt.cm.gray)"
     ],
     "language": "python",
     "outputs": []
    },
    {
     "cell_type": "code",
     "input": [
      "def make_gaussian_kernel(ksize):\n",
      "    x, y = np.mgrid[-ksize:ksize + 1, -ksize:ksize + 1]\n",
      "    kernel = np.exp(-0.25 * (x**2 + y**2) / (0.5*ksize)**2)\n",
      "    kernel /= np.sum(kernel)\n",
      "    return kernel.astype(np.float32)\n",
      "\n",
      "kernel = make_gaussian_kernel(4)\n",
      "plot_images([kernel])"
     ],
     "language": "python",
     "outputs": []
    },
    {
     "cell_type": "code",
     "input": [
      "img = skimage.io.imread(\"flower.jpg\").astype(np.float32) / 256.0\n",
      "img = img.mean(axis=2)\n",
      "img_zoom = img[600:700,600:700].copy()"
     ],
     "language": "python",
     "outputs": []
    },
    {
     "cell_type": "code",
     "input": [
      "plot_images([img, img_zoom])"
     ],
     "language": "python",
     "outputs": []
    },
    {
     "cell_type": "code",
     "input": [
      "def convolve2d(f, g):\n",
      "    # f is an image and is indexed by (v, w)\n",
      "    # g is a filter kernel and is indexed by (s, t),\n",
      "    #   it needs odd dimensions\n",
      "    # h is the output image and is indexed by (x, y),\n",
      "    #   it is not cropped\n",
      "    if g.shape[0] % 2 != 1 or g.shape[1] % 2 != 1:\n",
      "        raise ValueError(\"Only odd dimensions on filter supported\")\n",
      "    # smid and tmid are number of pixels between the center pixel\n",
      "    # and the edge, ie for a 5x5 filter they will be 2.\n",
      "    #\n",
      "    # The output size is calculated by adding smid, tmid to each\n",
      "    # side of the dimensions of the input image.\n",
      "    vmax = f.shape[0]\n",
      "    wmax = f.shape[1]\n",
      "    smax = g.shape[0]\n",
      "    tmax = g.shape[1]\n",
      "    smid = smax // 2\n",
      "    tmid = tmax // 2\n",
      "    xmax = vmax + 2*smid\n",
      "    ymax = wmax + 2*tmid\n",
      "    # Allocate result image.\n",
      "    h = np.zeros((xmax, ymax), dtype=f.dtype)\n",
      "    # Do convolution\n",
      "    for x in range(xmax):\n",
      "        for y in range(ymax):\n",
      "            # Calculate pixel value for h at (x,y). Sum one component\n",
      "            # for each pixel (s, t) of the filter g.\n",
      "            s_from = max(smid - x, -smid)\n",
      "            s_to = min((xmax - x) - smid, smid + 1)\n",
      "            t_from = max(tmid - y, -tmid)\n",
      "            t_to = min((ymax - y) - tmid, tmid + 1)\n",
      "            value = 0\n",
      "            for s in range(s_from, s_to):\n",
      "                for t in range(t_from, t_to):\n",
      "                    v = x - smid + s\n",
      "                    w = y - tmid + t\n",
      "                    value += g[smid - s, tmid - t] * f[v, w]\n",
      "            h[x, y] = value\n",
      "    return h\n"
     ],
     "language": "python",
     "outputs": []
    },
    {
     "cell_type": "code",
     "input": [
      "kernel = make_gaussian_kernel(3)\n",
      "%time blurred = convolve2d(img_zoom, kernel)\n",
      "plot_images([img_zoom, blurred])"
     ],
     "language": "python",
     "outputs": []
    },
    {
     "cell_type": "code",
     "input": [
      "%%cython\n",
      "\n",
      "import numpy as np\n",
      "\n",
      "def convolve2d_cython(float[:, :] f, float[:, :] g):\n",
      "    cdef ssize_t vmax, wmax, smax, tmax, smid, tmid, xmax, ymax\n",
      "    # or:\n",
      "    cdef:\n",
      "        ssize_t s_from, s_to, t_from, t_to\n",
      "        ssize_t x, y, s, t, v, w\n",
      "        float value\n",
      "        float[:, :] h\n",
      "        \n",
      "    # f is an image and is indexed by (v, w)\n",
      "    # g is a filter kernel and is indexed by (s, t),\n",
      "    #   it needs odd dimensions\n",
      "    # h is the output image and is indexed by (x, y),\n",
      "    #   it is not cropped\n",
      "    if g.shape[0] % 2 != 1 or g.shape[1] % 2 != 1:\n",
      "        raise ValueError(\"Only odd dimensions on filter supported\")\n",
      "    # smid and tmid are number of pixels between the center pixel\n",
      "    # and the edge, ie for a 5x5 filter they will be 2.\n",
      "    #\n",
      "    # The output size is calculated by adding smid, tmid to each\n",
      "    # side of the dimensions of the input image.\n",
      "    vmax = f.shape[0]\n",
      "    wmax = f.shape[1]\n",
      "    smax = g.shape[0]\n",
      "    tmax = g.shape[1]\n",
      "    smid = smax // 2\n",
      "    tmid = tmax // 2\n",
      "    xmax = vmax + 2*smid\n",
      "    ymax = wmax + 2*tmid\n",
      "    # Allocate result image.\n",
      "    h = np.zeros([xmax, ymax], dtype=np.float32)\n",
      "    # Do convolution\n",
      "    for x in range(xmax):\n",
      "        for y in range(ymax):\n",
      "                # Calculate pixel value for h at (x,y). Sum one component\n",
      "                # for each pixel (s, t) of the filter g.\n",
      "                s_from = max(smid - x, -smid)\n",
      "                s_to = min((xmax - x) - smid, smid + 1)\n",
      "                t_from = max(tmid - y, -tmid)\n",
      "                t_to = min((ymax - y) - tmid, tmid + 1)\n",
      "                value = 0\n",
      "                for s in range(s_from, s_to):\n",
      "                    for t in range(t_from, t_to):\n",
      "                        v = x - smid + s\n",
      "                        w = y - tmid + t\n",
      "                        value = value + g[smid - s, tmid - t] * f[v, w]\n",
      "                h[x, y] = value\n",
      "    return h\n",
      "\n"
     ],
     "language": "python",
     "outputs": []
    },
    {
     "cell_type": "code",
     "input": [
      "kernel = make_gaussian_kernel(3)\n",
      "%timeit blurred = convolve2d_cython(img_zoom, kernel)\n",
      "plot_images([img_zoom, blurred])"
     ],
     "language": "python",
     "outputs": []
    },
    {
     "cell_type": "code",
     "input": [],
     "language": "python",
     "outputs": []
    },
    {
     "cell_type": "code",
     "input": [],
     "language": "python",
     "outputs": []
    },
    {
     "cell_type": "code",
     "input": [
      "from concurrent.futures import wait, ThreadPoolExecutor\n",
      "\n",
      "kernel = make_gaussian_kernel(4)\n",
      "def job(N):\n",
      "    with ThreadPoolExecutor(max_workers=4) as executor:\n",
      "        for i in range(N):\n",
      "            executor.submit(convolve2d_cython, img, kernel)\n",
      "\n",
      "%time job(4)"
     ],
     "language": "python",
     "outputs": []
    },
    {
     "cell_type": "code",
     "input": [],
     "language": "python",
     "outputs": []
    }
   ]
  }
 ]
}