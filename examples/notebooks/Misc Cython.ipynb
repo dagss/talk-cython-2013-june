{
 "metadata": {
  "name": "Misc Cython"
 },
 "nbformat": 3,
 "nbformat_minor": 0,
 "worksheets": [
  {
   "cells": [
    {
     "cell_type": "code",
     "collapsed": false,
     "input": [
      "%load_ext cythonmagic"
     ],
     "language": "python",
     "metadata": {},
     "outputs": []
    },
    {
     "cell_type": "markdown",
     "metadata": {},
     "source": [
      "**Optional typing**\n",
      "\n",
      "Uses the C type system. Anything that is not typed is a (Python) `object`."
     ]
    },
    {
     "cell_type": "code",
     "collapsed": false,
     "input": [
      "%%cython\n",
      "\n",
      "def say(int n):\n",
      "    cdef int n_twice\n",
      "    n_twice = 2 * n\n",
      "    print \"Hello, two times %d is %d\" % (n, n_twice)\n"
     ],
     "language": "python",
     "metadata": {},
     "outputs": []
    },
    {
     "cell_type": "code",
     "collapsed": false,
     "input": [
      "say(3)"
     ],
     "language": "python",
     "metadata": {},
     "outputs": []
    },
    {
     "cell_type": "markdown",
     "metadata": {},
     "source": [
      "**Structs**\n",
      "\n",
      "Like in C/C++, assigns *by value*, not by reference."
     ]
    },
    {
     "cell_type": "code",
     "collapsed": false,
     "input": [
      "%%cython\n",
      "\n",
      "cdef struct Point:\n",
      "    int x\n",
      "    int y\n",
      "\n",
      "cdef Point a, b\n",
      "\n",
      "a.x, a.y = (0, 0)\n",
      "b.x, b.y = (0, 0)\n",
      "\n",
      "a = b\n",
      "b.x = 10\n",
      "\n",
      "print a.x, a.y\n",
      "print b.x, b.y"
     ],
     "language": "python",
     "metadata": {},
     "outputs": []
    },
    {
     "cell_type": "markdown",
     "metadata": {},
     "source": [
      "**Pointers**"
     ]
    },
    {
     "cell_type": "code",
     "collapsed": false,
     "input": [
      "%%cython\n",
      "\n",
      "cdef double *arr = [0, 1, 2]\n",
      "\n",
      "cdef double *p = arr + 2\n",
      "print p[0]"
     ],
     "language": "python",
     "metadata": {},
     "outputs": []
    },
    {
     "cell_type": "markdown",
     "metadata": {},
     "source": [
      "**Crash!**"
     ]
    },
    {
     "cell_type": "code",
     "collapsed": false,
     "input": [
      "%%cython\n",
      "\n",
      "cdef int *point_to_null = NULL\n",
      "point_to_null[0] = 4"
     ],
     "language": "python",
     "metadata": {},
     "outputs": []
    },
    {
     "cell_type": "code",
     "collapsed": false,
     "input": [],
     "language": "python",
     "metadata": {},
     "outputs": []
    }
   ],
   "metadata": {}
  }
 ]
}